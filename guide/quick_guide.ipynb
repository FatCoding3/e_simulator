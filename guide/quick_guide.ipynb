{
 "cells": [
  {
   "cell_type": "markdown",
   "id": "2ca5beb427f6ae23",
   "metadata": {},
   "source": [
    "# Quick Guide to the `e_simulator` package"
   ]
  },
  {
   "cell_type": "markdown",
   "id": "e607d410cd2ea595",
   "metadata": {},
   "source": [
    "`e_simulator` is the python package to simulate the orbit of a relativistic charged particle flying in electromagnetic regions. All the calcutions in the library is in SI unit. Below is the quick guide for you to get started with the library and perform basic simulations."
   ]
  },
  {
   "cell_type": "markdown",
   "id": "b3e4e8a6-27eb-4752-b577-220890cdff0e",
   "metadata": {},
   "source": [
    "## Installation"
   ]
  },
  {
   "cell_type": "markdown",
   "id": "4c840de4-7bcb-4476-aac6-9fd218cc34d5",
   "metadata": {},
   "source": [
    "The package can be easily installed via pip.\n",
    "```bash\n",
    "pip install e_simulator\n",
    "```\n",
    "After the package is installed, import the package to your code."
   ]
  },
  {
   "cell_type": "code",
   "execution_count": 1,
   "id": "7f4f727c-cb64-45f2-826b-857752fbef7c",
   "metadata": {
    "ExecuteTime": {
     "end_time": "2024-12-24T02:11:28.030318Z",
     "start_time": "2024-12-24T02:11:22.642389Z"
    }
   },
   "outputs": [],
   "source": [
    "import e_simulator as es"
   ]
  },
  {
   "cell_type": "markdown",
   "id": "6d6eac93-59e0-4f2a-b9c5-8ccf21713924",
   "metadata": {
    "ExecuteTime": {
     "end_time": "2024-12-22T15:02:31.653198Z",
     "start_time": "2024-12-22T15:02:31.635494Z"
    }
   },
   "source": [
    "## Introduce built-in geometry"
   ]
  },
  {
   "cell_type": "markdown",
   "id": "ee0f7307-3eba-4a45-b9ce-8aae61ee9788",
   "metadata": {},
   "source": [
    "`e_simulator` haves some basic built-in class for you to work with geometry. which includes `Vector`, `Coordinate`, `Geometry`.\n",
    "<br>\n",
    "First, `Vector` allows us to do some basic calculations in easy ways."
   ]
  },
  {
   "cell_type": "code",
   "execution_count": 2,
   "id": "66322f478a18fe58",
   "metadata": {},
   "outputs": [
    {
     "name": "stdout",
     "output_type": "stream",
     "text": [
      "A vector is \"Vector (5, 10)\".\n",
      "Length of \"Vector (5, 10)\" is 11.180339887498949.\n",
      "Squared length of \"Vector (5, 10)\" is 125.\n",
      "Angle of \"Vector (5, 10)\" is 1.1071487177940904 radius.\n",
      "Added vector is \"Vector (13, 10)\".\n",
      "Subtracted vector is \"Vector (4, 4)\".\n",
      "Multiplied vector is \"Vector (4.6, 4.6)\".\n",
      "Devided vector is \"Vector (1.0, 1.0)\".\n"
     ]
    }
   ],
   "source": [
    "# Define a vector\n",
    "vector: es.Vector = es.Vector(x=5, y=10) # same as es.Vector(5, 10)\n",
    "print(f'A vector is \"{vector}\".')\n",
    "\n",
    "# Length of a vector\n",
    "vector_length: float = vector.length()\n",
    "vector_length_squared: float = vector.length_squared()\n",
    "print(f'Length of \"{vector}\" is {vector_length}.')\n",
    "print(f'Squared length of \"{vector}\" is {vector_length_squared}.')\n",
    "\n",
    "# Angle create by a vector direction and x-axis (in radius)\n",
    "vector_angle: float = vector.direction()\n",
    "print(f'Angle of \"{vector}\" is {vector_angle} radius.')\n",
    "\n",
    "# Vectors addition\n",
    "added_vector: es.Vector = es.Vector(5, 6) + es.Vector(8, 4)\n",
    "print(f'Added vector is \"{added_vector}\".')\n",
    "\n",
    "# Vectors subtraction\n",
    "subtracted_vector: es.Vector = es.Vector(5, 6) - es.Vector(1, 2)\n",
    "print(f'Subtracted vector is \"{subtracted_vector}\".')\n",
    "\n",
    "# A vector is multiplied by a number\n",
    "multiplied_vector: es.Vector = es.Vector(2, 2) * 2.3\n",
    "print(f'Multiplied vector is \"{multiplied_vector}\".')\n",
    "\n",
    "# A vector is divided by a number\n",
    "devided_vector: es.Vector = es.Vector(2, 2) / 2\n",
    "print(f'Devided vector is \"{devided_vector}\".')"
   ]
  },
  {
   "cell_type": "markdown",
   "id": "b70f6f3f-1646-4377-90bd-707b82be7481",
   "metadata": {},
   "source": [
    "A `Coordinate` object is basically a position vector. "
   ]
  },
  {
   "cell_type": "code",
   "execution_count": 3,
   "id": "58fa0ff2-bb6e-472c-bc44-37338bbf3855",
   "metadata": {},
   "outputs": [
    {
     "name": "stdout",
     "output_type": "stream",
     "text": [
      "A coordinate is \"Coordinate (5, 10)\".\n"
     ]
    }
   ],
   "source": [
    "# Define a coordinate\n",
    "coordinate: es.Coordinate = es.Coordinate(x=5, y=10) # same as es.Coordinate(5, 10)\n",
    "print(f'A coordinate is \"{coordinate}\".')"
   ]
  },
  {
   "cell_type": "markdown",
   "id": "df864590-f647-4ca6-ba23-2b5946c89729",
   "metadata": {},
   "source": [
    "A `Geometry` is a 2D area. There are 2 types of `Geometry`, they are `PolygonGeometry` and `CircleGeometry`."
   ]
  },
  {
   "cell_type": "code",
   "execution_count": 4,
   "id": "c371e056-07b6-4b14-b222-2277089393ee",
   "metadata": {},
   "outputs": [
    {
     "name": "stdout",
     "output_type": "stream",
     "text": [
      "First polygon is \"Geometry type <GeometryType.POLYGON>\"\n",
      "Second polygon is \"Geometry type <GeometryType.POLYGON>\"\n"
     ]
    }
   ],
   "source": [
    "# Define a polygon geometry\n",
    "polygon_1: es.Geometry = es.PolygonGeometry(\n",
    "    # This create a triangle\n",
    "    coordinates = [es.Coordinate(3,4), es.Coordinate(10, 12), es.Coordinate(5,6)]\n",
    ")\n",
    "print(f'First polygon is \"{polygon_1}\"')\n",
    "\n",
    "# Or you can define it in a easier way\n",
    "polygon_2: es.Geometry = es.PolygonGeometry.simple_construct(\n",
    "    tuples = [(3,4), (10,12), (5,6)]\n",
    ")\n",
    "print(f'Second polygon is \"{polygon_2}\"')"
   ]
  },
  {
   "cell_type": "code",
   "execution_count": 5,
   "id": "7322a762-ea21-4060-84a0-6e38ba0b2bf7",
   "metadata": {},
   "outputs": [
    {
     "name": "stdout",
     "output_type": "stream",
     "text": [
      "First circle is \"Geometry type <GeometryType.CIRCLE>\"\n",
      "Second circle is \"Geometry type <GeometryType.CIRCLE>\"\n"
     ]
    }
   ],
   "source": [
    "import math\n",
    "\n",
    "# Define a circle geometry\n",
    "circle_1: es.Geometry = es.CircleGeometry(\n",
    "    center = es.Coordinate(5, 5),\n",
    "    radius = 4.2,\n",
    "\n",
    "    # Optional, use when the circle is not a full circle\n",
    "    # The angle is defined anticlockwise to x-axis in radius\n",
    "    start_angle = math.pi/3,\n",
    "\n",
    "    # Optional, use when the circle is not a full circle\n",
    "    # The central angle of the \"pie slice\"\n",
    "    central_angle = math.pi\n",
    ")\n",
    "print(f'First circle is \"{circle_1}\"')\n",
    "\n",
    "# Or you can define it in a easier way\n",
    "circle_2: es.Geometry = es.CircleGeometry.simple_construct(\n",
    "    center = (5, 5),\n",
    "    radius = 4.2,\n",
    "    start_angle = math.pi/3,\n",
    "    central_angle = math.pi\n",
    ")\n",
    "print(f'Second circle is \"{circle_2}\"')"
   ]
  },
  {
   "cell_type": "markdown",
   "id": "f78e69b0-e381-4301-9722-24316bd1291e",
   "metadata": {},
   "source": [
    "## Set project and project's system"
   ]
  },
  {
   "cell_type": "markdown",
   "id": "b50f1b9c-b1c9-4cf5-aac3-862d135ac4ad",
   "metadata": {},
   "source": [
    "### Define a project"
   ]
  },
  {
   "cell_type": "markdown",
   "id": "b3c40f75-244e-442c-9621-cadaade6ddc6",
   "metadata": {},
   "source": [
    "To start, you need to construct a project via `Project` class."
   ]
  },
  {
   "cell_type": "code",
   "execution_count": 6,
   "id": "dcb6c990-f21e-473e-a82a-16a50931c0f2",
   "metadata": {},
   "outputs": [
    {
     "name": "stdout",
     "output_type": "stream",
     "text": [
      "A project is \"ESProject (My first project)\"\n"
     ]
    }
   ],
   "source": [
    "# Define a color\n",
    "bg_color: es.Color = es.Color(red=100, green=100, blue=100)\n",
    "# or\n",
    "bg_color: es.Color = es.Color.from_hex('#32a2a8')\n",
    "\n",
    "# Define a project\n",
    "project: es.Project = es.Project(\n",
    "    # Optional\n",
    "    # The name will be used in visual representation\n",
    "    name = 'My first project',\n",
    "\n",
    "    # Optional\n",
    "    # The bg_color will be used in visual representation\n",
    "    bg_color = bg_color\n",
    ")\n",
    "print(f'A project is \"{project}\"')"
   ]
  },
  {
   "cell_type": "markdown",
   "id": "5fbf5a6f-a8da-44d8-b45f-6131183c6a11",
   "metadata": {},
   "source": [
    "### Set project's boundary"
   ]
  },
  {
   "cell_type": "markdown",
   "id": "7e8b353d-1820-487c-97e7-28e59e81b01a",
   "metadata": {},
   "source": [
    "The boundary is required as the simulation will stop if the particle is out of the boundary.<br>\n",
    "The boudary of a project is defined via `Geometry`"
   ]
  },
  {
   "cell_type": "code",
   "execution_count": 7,
   "id": "bc51fa66-352b-4f5e-8bf7-cd6f029e916b",
   "metadata": {},
   "outputs": [],
   "source": [
    "# Define a boundary\n",
    "boundary: es.Geometry = es.PolygonGeometry.simple_construct(\n",
    "    tuples=[(0,0), (0,100), (200,100), (200, 0)] # a rectangle\n",
    ")\n",
    "\n",
    "# Set the boundary for the project\n",
    "project.set_bounds(bounds=boundary)"
   ]
  },
  {
   "cell_type": "markdown",
   "id": "f354e2f8-e677-4b86-aa31-d66b316728c8",
   "metadata": {},
   "source": [
    "### Set project's particle"
   ]
  },
  {
   "cell_type": "markdown",
   "id": "dd2150f8-151b-4df2-bd47-ee3a339936e6",
   "metadata": {},
   "source": [
    "Each project has only one particle."
   ]
  },
  {
   "cell_type": "code",
   "execution_count": 8,
   "id": "cde9a2b7-07f2-4202-bc38-2e80c51da050",
   "metadata": {},
   "outputs": [
    {
     "name": "stdout",
     "output_type": "stream",
     "text": [
      "A particle is \"Particle (electron)\"\n"
     ]
    }
   ],
   "source": [
    "# Define a particle\n",
    "particle: es.Particle = es.Particle(\n",
    "    mass = 9.1e-31, # electron mass\n",
    "    charge = -1.6e-19, # electron charge\n",
    "\n",
    "    # The position of the particle when the simulation starts\n",
    "    init_position = es.Coordinate(10, 60),\n",
    "\n",
    "    # Optional, default is \"es.Vector(0, 0)\"\n",
    "    # The velocity of the particle when the simulation starts \n",
    "    init_velocity = es.Vector(1, 0),\n",
    "\n",
    "    # Optional, default is \"0\"\n",
    "    # The drag force is calculated as \"drag_coefficient * v^2\"\n",
    "    drag_coefficient = 0,\n",
    "\n",
    "    # Optional\n",
    "    # The name will be used in visual representation\n",
    "    name = 'electron',\n",
    "\n",
    "    # Optional\n",
    "    # The color will be used in visual representation\n",
    "    color = es.Color(0, 0, 255) # blue color\n",
    ")\n",
    "print(f'A particle is \"{particle}\"')\n",
    "\n",
    "# Set the particle for the project\n",
    "project.set_particle(particle=particle)"
   ]
  },
  {
   "cell_type": "markdown",
   "id": "5a57a431-7dbe-451a-8223-e45ddd570c29",
   "metadata": {},
   "source": [
    "### Set project's electromagnetic regions"
   ]
  },
  {
   "cell_type": "markdown",
   "id": "913d50c9-6202-44da-9f79-abac96618b93",
   "metadata": {},
   "source": [
    "An electromagnetic region have 2 most important parameters, they are `geometry: es.Geometry` and `em_field: es.EMField`.<br>\n",
    "The `geometry` parameter is used to define the area of the electromagnetic field."
   ]
  },
  {
   "cell_type": "code",
   "execution_count": 9,
   "id": "07e73494-d439-48fe-8685-497eba824d0b",
   "metadata": {},
   "outputs": [
    {
     "name": "stdout",
     "output_type": "stream",
     "text": [
      "A region geometry is \"Geometry type <GeometryType.CIRCLE>\"\n",
      "Or it also can be \"Geometry type <GeometryType.POLYGON>\"\n"
     ]
    }
   ],
   "source": [
    "# Define a region's geometry\n",
    "region_1_geometry: es.Geometry = es.CircleGeometry.simple_construct(\n",
    "    center = (50, 50),\n",
    "    radius = 20,\n",
    "    start_angle = 0,\n",
    "    central_angle = math.pi\n",
    ")\n",
    "print(f'A region geometry is \"{region_1_geometry}\"')\n",
    "\n",
    "# Or\n",
    "region_1_geometry: es.Geometry = es.PolygonGeometry.simple_construct(\n",
    "    tuples = [(0,30), (50,30), (50,70), (0,70)]\n",
    ") \n",
    "print(f'Or it also can be \"{region_1_geometry}\"')"
   ]
  },
  {
   "cell_type": "markdown",
   "id": "65b679bd-31b1-4979-a821-c1753f2e9322",
   "metadata": {},
   "source": [
    "The `em_field` parameter is an object of `EMField` class and it has information about strength and direction of an electromagnetic field.<br>\n",
    "There are 2 types of `EMField`, first type is static field `StaticEMField` and second type is varying field `VaryingEMField`."
   ]
  },
  {
   "cell_type": "code",
   "execution_count": 10,
   "id": "2b4a2e82-47fb-4ba5-af46-2e976a796291",
   "metadata": {},
   "outputs": [
    {
     "name": "stdout",
     "output_type": "stream",
     "text": [
      "A static field is \"EMField type <EMFieldType.STATIC>\"\n",
      "A varying field is \"EMField type <EMFieldType.VARYING>\"\n"
     ]
    }
   ],
   "source": [
    "# Define a static region's field\n",
    "region_1_field: es.EMField = es.StaticEMField(\n",
    "    # Optional, default is \"es.Vector(0, 0)\"\n",
    "    electric = es.Vector(4, 5),\n",
    "\n",
    "    \n",
    "    # Optional, default is \"0\"\n",
    "    # The magnetic field in this package is always perpendicular to the coordinate plane. \n",
    "    # A positive magnetic field corresponds to a field directed into the plane, \n",
    "    # while a negative magnetic field corresponds to a field directed out of the plane.\n",
    "    # Below magnetic field is directed into the plane.\n",
    "    magnetic = 1 \n",
    ")\n",
    "print(f'A static field is \"{region_1_field}\"')\n",
    "\n",
    "# Define a varying region's field\n",
    "region_1_field: es.EMField = es.VaryingEMField(\n",
    "    # Optional, default is \"lambda t: es.Vector(0, 0)\"\n",
    "    # The get_electric parameter is a function of time (t) and return a Vector\n",
    "    get_electric = lambda t: es.Vector(-t*5e-10, 0),\n",
    "\n",
    "    # Optional, default is \"lambda t: 0\"\n",
    "    # The get_magnetic parameter is a function of time (t) and return a number\n",
    "    get_magnetic = lambda t: 0\n",
    ")\n",
    "print(f'A varying field is \"{region_1_field}\"')\n"
   ]
  },
  {
   "cell_type": "markdown",
   "id": "ad056a5c-aa96-4e81-9889-998f9f0d5939",
   "metadata": {},
   "source": [
    "Now, it's time to define a electromagnetic region via `EMRegion`."
   ]
  },
  {
   "cell_type": "code",
   "execution_count": 11,
   "id": "08e9e638-ce9b-4ced-ad5e-1d288466c174",
   "metadata": {},
   "outputs": [
    {
     "name": "stdout",
     "output_type": "stream",
     "text": [
      "A region is \"EMRegion (Region One)\"\n"
     ]
    }
   ],
   "source": [
    "# Define an electromagenetic region\n",
    "em_region_1: es.EMRegion = es.EMRegion(\n",
    "    # The em_field parameter has information about \n",
    "    # strength and direction of the field\n",
    "    em_field = region_1_field,\n",
    "\n",
    "    # The geometry defines the area of the field\n",
    "    geometry = region_1_geometry,\n",
    "\n",
    "    # Optional\n",
    "    # The name will be used in visual representation\n",
    "    name = 'Region One',\n",
    "\n",
    "    # Optional\n",
    "    # The color will be used in visual representation\n",
    "    color = es.Color(0, 255, 0) # green color\n",
    ")\n",
    "print(f'A region is \"{em_region_1}\"')"
   ]
  },
  {
   "cell_type": "markdown",
   "id": "1d3d60fe-ee7f-475d-9556-1316e50e3d64",
   "metadata": {},
   "source": [
    "Next, we will create another `EMRegion` and store our 2 regions in a list. After that, we can set the project's regions."
   ]
  },
  {
   "cell_type": "code",
   "execution_count": 12,
   "id": "4ba6c437-81a9-4e17-83f0-73fae29a5df1",
   "metadata": {},
   "outputs": [],
   "source": [
    "# Define another electromagnetic region\n",
    "em_region_2: es.EMRegion = es.EMRegion(\n",
    "    em_field = es.StaticEMField(magnetic=2e-11),\n",
    "    geometry = es.CircleGeometry.simple_construct(\n",
    "        center=(50, 50), radius=20, start_angle=math.pi*1.5, central_angle=math.pi\n",
    "    ),\n",
    "    name = 'Region Two'\n",
    ")\n",
    "\n",
    "# Store regions in a list\n",
    "em_regions: list[es.EMRegion] = [em_region_1, em_region_2]\n",
    "\n",
    "# Set project's regions\n",
    "project.set_em_regions(em_regions=em_regions)"
   ]
  },
  {
   "cell_type": "markdown",
   "id": "18bc8b1a-5b70-41ef-8137-5b840f96337a",
   "metadata": {},
   "source": [
    "### Visualize project's system"
   ]
  },
  {
   "cell_type": "markdown",
   "id": "bc038bb9-8b35-4c67-89a6-1afe4e36e92f",
   "metadata": {},
   "source": [
    "You also can view your current project's system by drawing it with `matplotlib` and our `es.Visualizer`."
   ]
  },
  {
   "cell_type": "code",
   "execution_count": 13,
   "id": "7d29b65d-3822-4fee-839c-7bc85b12a6d3",
   "metadata": {},
   "outputs": [
    {
     "data": {
      "image/png": "[encoded data removed]",
      "text/plain": [
       "<Figure size 768x576 with 1 Axes>"
      ]
     },
     "metadata": {},
     "output_type": "display_data"
    }
   ],
   "source": [
    "import matplotlib.pyplot as plt\n",
    "\n",
    "# Create Visualizer instance\n",
    "visualizer: es.Visualizer = es.Visualizer(project=project)\n",
    "\n",
    "# Init matplotlib\n",
    "fig, ax = plt.subplots()\n",
    "\n",
    "# Use visualizer to draw the system\n",
    "visualizer.plot_system(\n",
    "    # visualizer use plt.Axes to draw\n",
    "    axes = ax,\n",
    "\n",
    "    # Optional\n",
    "    # Same as plt.xlim()\n",
    "    x_limit = (0, 200),\n",
    "\n",
    "    # Optional\n",
    "    # Same as plt.ylim()\n",
    "    y_limit = (0, 100),\n",
    "\n",
    "    # Optional\n",
    "    # Use {} to add the project's name\n",
    "    title = 'This is \"{}\"',\n",
    "\n",
    "    # Optional\n",
    "    # This ratio is the ratio between the length of \n",
    "    # 1 unit on the y-axis and 1 unit on the x-axis\n",
    "    # This is used in plt.Axes.set_aspect()\n",
    "    aspect_ratio = 1,\n",
    "\n",
    "    # Optional, default is \"2\"\n",
    "    # legend_cols must be integer\n",
    "    legend_cols = 3,\n",
    "    \n",
    "    # Optional, default is \"2\"\n",
    "    # bounds_width is used to define the thickness of the boundary\n",
    "    bounds_width = 3,\n",
    "\n",
    "    # Optional, default is \"1\"\n",
    "    # bounds_width is used to define the thickness of the regions\n",
    "    region_width = 2\n",
    ")\n",
    "\n",
    "# You also can do anything before or after visualizer.plot_system()\n",
    "# like set_dpi, set_xlabel, resize, ...\n",
    "fig.set_dpi(120)\n",
    "ax.set_xlabel('Axis x')\n",
    "\n",
    "# Show the image\n",
    "plt.show()"
   ]
  },
  {
   "cell_type": "markdown",
   "id": "2c87b3eb-8df9-4830-b044-3ad2ed303425",
   "metadata": {},
   "source": [
    "### Save and import your project's system"
   ]
  },
  {
   "cell_type": "markdown",
   "id": "a22092bc-b2d5-484f-a60e-802cf8cd9e87",
   "metadata": {},
   "source": [
    "We use `joblib` package to export project's system."
   ]
  },
  {
   "cell_type": "code",
   "execution_count": 14,
   "id": "bb51d4d3-7b69-44de-b560-851279fe8ad6",
   "metadata": {},
   "outputs": [],
   "source": [
    "# Export project's system\n",
    "project.export_system_joblib(\n",
    "    path = 'project_system.joblib'\n",
    ")"
   ]
  },
  {
   "cell_type": "markdown",
   "id": "3da6df73-0cce-4697-9eb7-20c822ba961e",
   "metadata": {},
   "source": [
    "We can import the system from a joblib file to a new project."
   ]
  },
  {
   "cell_type": "code",
   "execution_count": 15,
   "id": "6c9d1bdf-4675-4ae3-bdda-d91fb0798e5a",
   "metadata": {},
   "outputs": [
    {
     "name": "stdout",
     "output_type": "stream",
     "text": [
      "The new project is \"ESProject (My first project)\"\n"
     ]
    }
   ],
   "source": [
    "# Define a new project\n",
    "new_project = es.Project()\n",
    "\n",
    "# Import system from file\n",
    "new_project.import_system_joblib(\n",
    "    path = 'project_system.joblib'\n",
    ")\n",
    "print(f'The new project is \"{new_project}\"')"
   ]
  },
  {
   "cell_type": "markdown",
   "id": "2acbf381-e2ad-482d-a41a-3ea07a76ac58",
   "metadata": {},
   "source": [
    "## Simulate and visualize simulation"
   ]
  },
  {
   "cell_type": "markdown",
   "id": "f319c328-0f48-411d-99d1-fa5d12eda979",
   "metadata": {},
   "source": [
    "When all required system is setted, it's time for simulation.<br>\n",
    "Our simulation employs the Runge-Kutta 4 method to integrate the orbit of the particle, <br>\n",
    "ensuring that the calculations remain precise and reliable throughout the simulation."
   ]
  },
  {
   "cell_type": "markdown",
   "id": "d948039a-7498-4738-a60f-7955227226aa",
   "metadata": {},
   "source": [
    "### Simulate"
   ]
  },
  {
   "cell_type": "markdown",
   "id": "37597115-a965-44d6-a62d-953b3840b056",
   "metadata": {},
   "source": [
    "To start simulating, use `Project.simulate` as below."
   ]
  },
  {
   "cell_type": "code",
   "execution_count": 16,
   "id": "170dd0ae-df38-4d67-9200-764ca8790632",
   "metadata": {},
   "outputs": [],
   "source": [
    "# Start simulation\n",
    "project.simulate(\n",
    "    # Optional\n",
    "    # The simulation will be stopped if the particle reaches this distance.\n",
    "    max_s = 100,\n",
    "\n",
    "    # Optional\n",
    "    # The simulation will be stopped if time passes max_t\n",
    "    max_t = 10,\n",
    "\n",
    "    # Optional, defalut is \"0.05\"\n",
    "    # The simulation will use relativistic calculation \n",
    "    # if the particle's speed equals or is greater than this ratio of light speed\n",
    "    start_relativistic_ratio = 0.1,\n",
    "\n",
    "    # Optional, default is \"lambda v: 1/(v*1e2)\"\n",
    "    # The faster the particle moves, the smaller delta_t should be\n",
    "    # This is the function of speed (v) and returns a number that is delta_t\n",
    "    delta_t_func = lambda v: 1/(v*1e3),\n",
    "\n",
    "    # Optional\n",
    "    # Sometimes, we dont need to store all step data\n",
    "    # If you use this parameter, the data is only saved each time \n",
    "    # the particle reaches this distance.\n",
    "    save_per_distance = 0.01\n",
    ")"
   ]
  },
  {
   "cell_type": "markdown",
   "id": "18649593-0117-444c-97ec-f6d107d9266f",
   "metadata": {},
   "source": [
    "### View simulated data"
   ]
  },
  {
   "cell_type": "markdown",
   "id": "0999ffca-2a45-45bd-9bfa-ebab158027e4",
   "metadata": {},
   "source": [
    "To receive the simulated data, use `Project.simulate_data`"
   ]
  },
  {
   "cell_type": "code",
   "execution_count": 17,
   "id": "5d8e4927-7a09-4bb9-acca-5b9ba39c32b3",
   "metadata": {},
   "outputs": [
    {
     "name": "stdout",
     "output_type": "stream",
     "text": [
      "Time of this step is \"2.0882824596888034\"\n",
      "Position of this particle in this step is \"Vector (91.34341678588699, 19.855247858764457)\"\n",
      "Velocity of this particle in this step is \"Vector (49.70551093389559, -68.7947820201816)\"\n",
      "Kinetic energy of this particle in this step is \"3.277528731933782e-27\"\n",
      "You also can view kinetic energy in eV, which is \"2.0456725500923748e-08\"\n"
     ]
    }
   ],
   "source": [
    "# Get the simulated data\n",
    "data = project.simulate_data\n",
    "\n",
    "# Simulated data is stored as a list of es.SimulateDataItem\n",
    "last_data_item: es.SimulateDataItem = data[-1]\n",
    "\n",
    "# Each data item has time, position, velocity, and kinetic energy of the particle\n",
    "print(f'Time of this step is \"{last_data_item.time}\"')\n",
    "print(f'Position of this particle in this step is \"{last_data_item.position}\"')\n",
    "print(f'Velocity of this particle in this step is \"{last_data_item.velocity}\"')\n",
    "print(f'Kinetic energy of this particle in this step is \"{last_data_item.kinetic}\"')\n",
    "print(f'You also can view kinetic energy in eV, which is \"{last_data_item.kinetic_in_ev}\"')"
   ]
  },
  {
   "cell_type": "markdown",
   "id": "0cc33b3d-79ec-43ba-baea-40e43cfc20b2",
   "metadata": {},
   "source": [
    "You can convert your data into `pandas.DataFrame` with `Project.simulate_data_to_df()`."
   ]
  },
  {
   "cell_type": "code",
   "execution_count": 18,
   "id": "cf94ef69-83fb-467a-8c52-b377c9fb5906",
   "metadata": {},
   "outputs": [
    {
     "data": {
      "text/html": [
       "<div>\n",
       "<style scoped>\n",
       "    .dataframe tbody tr th:only-of-type {\n",
       "        vertical-align: middle;\n",
       "    }\n",
       "\n",
       "    .dataframe tbody tr th {\n",
       "        vertical-align: top;\n",
       "    }\n",
       "\n",
       "    .dataframe thead th {\n",
       "        text-align: right;\n",
       "    }\n",
       "</style>\n",
       "<table border=\"1\" class=\"dataframe\">\n",
       "  <thead>\n",
       "    <tr style=\"text-align: right;\">\n",
       "      <th></th>\n",
       "      <th>Time</th>\n",
       "      <th>Distance</th>\n",
       "      <th>Position x</th>\n",
       "      <th>Position y</th>\n",
       "      <th>Velocity x</th>\n",
       "      <th>Velocity y</th>\n",
       "      <th>Kinetic</th>\n",
       "      <th>Kinetic (eV)</th>\n",
       "    </tr>\n",
       "  </thead>\n",
       "  <tbody>\n",
       "    <tr>\n",
       "      <th>0</th>\n",
       "      <td>0.000000</td>\n",
       "      <td>0.000000</td>\n",
       "      <td>10.000000</td>\n",
       "      <td>60.000000</td>\n",
       "      <td>1.000000</td>\n",
       "      <td>0.000000</td>\n",
       "      <td>4.550000e-31</td>\n",
       "      <td>2.839887e-12</td>\n",
       "    </tr>\n",
       "    <tr>\n",
       "      <th>1</th>\n",
       "      <td>0.009988</td>\n",
       "      <td>0.010002</td>\n",
       "      <td>10.010002</td>\n",
       "      <td>60.000000</td>\n",
       "      <td>1.004385</td>\n",
       "      <td>0.000000</td>\n",
       "      <td>4.589988e-31</td>\n",
       "      <td>2.864845e-12</td>\n",
       "    </tr>\n",
       "    <tr>\n",
       "      <th>2</th>\n",
       "      <td>0.019893</td>\n",
       "      <td>0.020008</td>\n",
       "      <td>10.020008</td>\n",
       "      <td>60.000000</td>\n",
       "      <td>1.017395</td>\n",
       "      <td>0.000000</td>\n",
       "      <td>4.709672e-31</td>\n",
       "      <td>2.939546e-12</td>\n",
       "    </tr>\n",
       "    <tr>\n",
       "      <th>3</th>\n",
       "      <td>0.029637</td>\n",
       "      <td>0.030019</td>\n",
       "      <td>10.030019</td>\n",
       "      <td>60.000000</td>\n",
       "      <td>1.038610</td>\n",
       "      <td>0.000000</td>\n",
       "      <td>4.908131e-31</td>\n",
       "      <td>3.063414e-12</td>\n",
       "    </tr>\n",
       "    <tr>\n",
       "      <th>4</th>\n",
       "      <td>0.039153</td>\n",
       "      <td>0.040032</td>\n",
       "      <td>10.040032</td>\n",
       "      <td>60.000000</td>\n",
       "      <td>1.067383</td>\n",
       "      <td>0.000000</td>\n",
       "      <td>5.183840e-31</td>\n",
       "      <td>3.235499e-12</td>\n",
       "    </tr>\n",
       "    <tr>\n",
       "      <th>...</th>\n",
       "      <td>...</td>\n",
       "      <td>...</td>\n",
       "      <td>...</td>\n",
       "      <td>...</td>\n",
       "      <td>...</td>\n",
       "      <td>...</td>\n",
       "      <td>...</td>\n",
       "      <td>...</td>\n",
       "    </tr>\n",
       "    <tr>\n",
       "      <th>9996</th>\n",
       "      <td>2.087811</td>\n",
       "      <td>99.960221</td>\n",
       "      <td>91.319991</td>\n",
       "      <td>19.887670</td>\n",
       "      <td>49.705511</td>\n",
       "      <td>-68.794782</td>\n",
       "      <td>3.277529e-27</td>\n",
       "      <td>2.045673e-08</td>\n",
       "    </tr>\n",
       "    <tr>\n",
       "      <th>9997</th>\n",
       "      <td>2.087929</td>\n",
       "      <td>99.970221</td>\n",
       "      <td>91.325847</td>\n",
       "      <td>19.879565</td>\n",
       "      <td>49.705511</td>\n",
       "      <td>-68.794782</td>\n",
       "      <td>3.277529e-27</td>\n",
       "      <td>2.045673e-08</td>\n",
       "    </tr>\n",
       "    <tr>\n",
       "      <th>9998</th>\n",
       "      <td>2.088047</td>\n",
       "      <td>99.980221</td>\n",
       "      <td>91.331704</td>\n",
       "      <td>19.871459</td>\n",
       "      <td>49.705511</td>\n",
       "      <td>-68.794782</td>\n",
       "      <td>3.277529e-27</td>\n",
       "      <td>2.045673e-08</td>\n",
       "    </tr>\n",
       "    <tr>\n",
       "      <th>9999</th>\n",
       "      <td>2.088165</td>\n",
       "      <td>99.990221</td>\n",
       "      <td>91.337560</td>\n",
       "      <td>19.863354</td>\n",
       "      <td>49.705511</td>\n",
       "      <td>-68.794782</td>\n",
       "      <td>3.277529e-27</td>\n",
       "      <td>2.045673e-08</td>\n",
       "    </tr>\n",
       "    <tr>\n",
       "      <th>10000</th>\n",
       "      <td>2.088282</td>\n",
       "      <td>100.000221</td>\n",
       "      <td>91.343417</td>\n",
       "      <td>19.855248</td>\n",
       "      <td>49.705511</td>\n",
       "      <td>-68.794782</td>\n",
       "      <td>3.277529e-27</td>\n",
       "      <td>2.045673e-08</td>\n",
       "    </tr>\n",
       "  </tbody>\n",
       "</table>\n",
       "<p>10001 rows × 8 columns</p>\n",
       "</div>"
      ],
      "text/plain": [
       "           Time    Distance  Position x  Position y  Velocity x  Velocity y  \\\n",
       "0      0.000000    0.000000   10.000000   60.000000    1.000000    0.000000   \n",
       "1      0.009988    0.010002   10.010002   60.000000    1.004385    0.000000   \n",
       "2      0.019893    0.020008   10.020008   60.000000    1.017395    0.000000   \n",
       "3      0.029637    0.030019   10.030019   60.000000    1.038610    0.000000   \n",
       "4      0.039153    0.040032   10.040032   60.000000    1.067383    0.000000   \n",
       "...         ...         ...         ...         ...         ...         ...   \n",
       "9996   2.087811   99.960221   91.319991   19.887670   49.705511  -68.794782   \n",
       "9997   2.087929   99.970221   91.325847   19.879565   49.705511  -68.794782   \n",
       "9998   2.088047   99.980221   91.331704   19.871459   49.705511  -68.794782   \n",
       "9999   2.088165   99.990221   91.337560   19.863354   49.705511  -68.794782   \n",
       "10000  2.088282  100.000221   91.343417   19.855248   49.705511  -68.794782   \n",
       "\n",
       "            Kinetic  Kinetic (eV)  \n",
       "0      4.550000e-31  2.839887e-12  \n",
       "1      4.589988e-31  2.864845e-12  \n",
       "2      4.709672e-31  2.939546e-12  \n",
       "3      4.908131e-31  3.063414e-12  \n",
       "4      5.183840e-31  3.235499e-12  \n",
       "...             ...           ...  \n",
       "9996   3.277529e-27  2.045673e-08  \n",
       "9997   3.277529e-27  2.045673e-08  \n",
       "9998   3.277529e-27  2.045673e-08  \n",
       "9999   3.277529e-27  2.045673e-08  \n",
       "10000  3.277529e-27  2.045673e-08  \n",
       "\n",
       "[10001 rows x 8 columns]"
      ]
     },
     "execution_count": 18,
     "metadata": {},
     "output_type": "execute_result"
    }
   ],
   "source": [
    "# Convert simulated data to pandas.DataFrame\n",
    "simulate_df = project.simulate_data_to_df()\n",
    "\n",
    "# Save your data\n",
    "simulate_df.to_csv('simulate_data.csv')\n",
    "\n",
    "simulate_df"
   ]
  },
  {
   "cell_type": "markdown",
   "id": "b4d78825-c5ff-4be5-9259-ae6cd2e6286c",
   "metadata": {},
   "source": [
    "We also have `Project.import_simulate_data_csv` for you to import this data back.\n"
   ]
  },
  {
   "cell_type": "code",
   "execution_count": 19,
   "id": "78f54693-f78a-4ea8-9bea-049e587d6792",
   "metadata": {},
   "outputs": [
    {
     "name": "stdout",
     "output_type": "stream",
     "text": [
      "After imported, last item of new_project data is \"SimulateDataItem (t=2.0882824596888034)\"\n"
     ]
    }
   ],
   "source": [
    "# Import simulate data\n",
    "new_project.import_simulate_data_csv('simulate_data.csv')\n",
    "\n",
    "print(f'After imported, last item of new_project data is \"{new_project.simulate_data[-1]}\"')"
   ]
  },
  {
   "cell_type": "markdown",
   "id": "cd00e011-dba2-41c1-8711-2c86ba7332b6",
   "metadata": {},
   "source": [
    "### Visualize simulated data"
   ]
  },
  {
   "cell_type": "markdown",
   "id": "a34918b7-e209-4c78-8482-f7e0a1f0d7f6",
   "metadata": {},
   "source": [
    "Same as `plot_system`, we have similar `plot_simulation` to show static simulation image."
   ]
  },
  {
   "cell_type": "code",
   "execution_count": 22,
   "id": "6daae6f1-c010-4ab7-a04b-034abeea7fd5",
   "metadata": {},
   "outputs": [
    {
     "data": {
      "image/png": "[encoded data removed]",
      "text/plain": [
       "<Figure size 640x480 with 1 Axes>"
      ]
     },
     "metadata": {},
     "output_type": "display_data"
    }
   ],
   "source": [
    "# Init matplotlib\n",
    "fig, ax = plt.subplots()\n",
    "\n",
    "# Use the visualizer to draw the system and the particle's orbit\n",
    "visualizer.plot_simulation(\n",
    "    # visualizer use plt.Axes to draw\n",
    "    axes = ax,\n",
    "\n",
    "    # Optional\n",
    "    # Same as plt.xlim()\n",
    "    x_limit = (0, 150),\n",
    "\n",
    "    # Optional\n",
    "    # Same as plt.ylim()\n",
    "    y_limit = (0, 100),\n",
    "\n",
    "    # Optional\n",
    "    # Use {} to add the project's name\n",
    "    title = 'This is \"{}\"',\n",
    "\n",
    "    # Optional\n",
    "    # This ratio is the ratio between the length of \n",
    "    # 1 unit on the y-axis and 1 unit on the x-axis\n",
    "    # This is used in plt.Axes.set_aspect()\n",
    "    aspect_ratio = 1,\n",
    "\n",
    "    # Optional, default is \"2\"\n",
    "    # legend_cols must be integer\n",
    "    legend_cols = 3,\n",
    "    \n",
    "    # Optional, default is \"2\"\n",
    "    # bounds_width is used to define the thickness of the boundary\n",
    "    bounds_width = 3,\n",
    "\n",
    "    # Optional, default is \"1\"\n",
    "    # bounds_width is used to define the thickness of the regions\n",
    "    region_width = 2,\n",
    "\n",
    "    # Optional, default is \"1\"\n",
    "    # orbit_width is used to define the thickness of the orbit line\n",
    "    orbit_width = 2\n",
    ")\n",
    "\n",
    "# You also can do anything before or after visualizer.plot_system()\n",
    "# like set_dpi, set_xlabel, resize, ...\n",
    "fig.set_dpi(100)\n",
    "\n",
    "# Show the image\n",
    "plt.show()"
   ]
  },
  {
   "cell_type": "markdown",
   "id": "c4781f5e-fc7d-4a45-9c5c-c63dd01ad82b",
   "metadata": {},
   "source": [
    "We also provide animation visualization via `gif` file."
   ]
  },
  {
   "cell_type": "code",
   "execution_count": 24,
   "id": "2a462b82-ee20-4c6f-9f45-6218619b4d13",
   "metadata": {},
   "outputs": [],
   "source": [
    "# First, create an animation object\n",
    "animation = visualizer.animation(\n",
    "    # Optional, default is \"1\"\n",
    "    # This will slow the movement of the particle\n",
    "    # If you want it to move faster, use \"1/<number>\"\n",
    "    slower_times = 2,\n",
    "\n",
    "    # Optional, default is \"10\"\n",
    "    # fps stands for frames per second\n",
    "    fps = 12,\n",
    "\n",
    "    # Optional\n",
    "    # Same as plt.xlim()\n",
    "    x_limit = (0, 200),\n",
    "\n",
    "    # Optional\n",
    "    # Same as plt.ylim()\n",
    "    y_limit = (0, 100),\n",
    "\n",
    "    # Optional\n",
    "    # Use {} to add the project's name\n",
    "    title = 'This is \"{}\"',\n",
    "\n",
    "    # Optional\n",
    "    # This ratio is the ratio between the length of \n",
    "    # 1 unit on the y-axis and 1 unit on the x-axis\n",
    "    # This is used in plt.Axes.set_aspect()\n",
    "    aspect_ratio = 1,\n",
    "\n",
    "    # Optional, default is \"2\"\n",
    "    # legend_cols must be integer\n",
    "    legend_cols = 3,\n",
    "    \n",
    "    # Optional, default is \"2\"\n",
    "    # bounds_width is used to define the thickness of the boundary\n",
    "    bounds_width = 3,\n",
    "\n",
    "    # Optional, default is \"1\"\n",
    "    # bounds_width is used to define the thickness of the regions\n",
    "    region_width = 2,\n",
    "\n",
    "    # Optional, default is \"1\"\n",
    "    # orbit_width is used to define the thickness of the orbit line\n",
    "    orbit_width = 2,\n",
    "\n",
    "    # Optional, default is \"5\"\n",
    "    # image_width is the width of the gif image in inches\n",
    "    image_width = 6\n",
    ")\n",
    "\n",
    "# Export gif file\n",
    "animation.export_gif('simulation.gif')"
   ]
  },
  {
   "cell_type": "markdown",
   "id": "a864dfe1-9bd5-4d43-921e-362a04202137",
   "metadata": {},
   "source": [
    "## Examples"
   ]
  },
  {
   "cell_type": "markdown",
   "id": "4a6ccb35-aed0-4d1d-95f3-1ef793bc33e4",
   "metadata": {},
   "source": [
    "Open folder `guide/examples` to view our examples."
   ]
  }
 ],
 "metadata": {
  "kernelspec": {
   "display_name": "Python 3 (ipykernel)",
   "language": "python",
   "name": "python3"
  },
  "language_info": {
   "codemirror_mode": {
    "name": "ipython",
    "version": 3
   },
   "file_extension": ".py",
   "mimetype": "text/x-python",
   "name": "python",
   "nbconvert_exporter": "python",
   "pygments_lexer": "ipython3",
   "version": "3.10.11"
  }
 },
 "nbformat": 4,
 "nbformat_minor": 5
}
